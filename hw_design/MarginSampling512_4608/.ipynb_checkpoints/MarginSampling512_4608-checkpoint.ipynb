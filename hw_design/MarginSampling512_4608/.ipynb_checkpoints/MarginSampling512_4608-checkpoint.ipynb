{
 "cells": [
  {
   "cell_type": "code",
   "execution_count": 1,
   "id": "469ad4b3",
   "metadata": {},
   "outputs": [
    {
     "data": {
      "application/javascript": [
       "\n",
       "try {\n",
       "require(['notebook/js/codecell'], function(codecell) {\n",
       "  codecell.CodeCell.options_default.highlight_modes[\n",
       "      'magic_text/x-csrc'] = {'reg':[/^%%microblaze/]};\n",
       "  Jupyter.notebook.events.one('kernel_ready.Kernel', function(){\n",
       "      Jupyter.notebook.get_cells().map(function(cell){\n",
       "          if (cell.cell_type == 'code'){ cell.auto_highlight(); } }) ;\n",
       "  });\n",
       "});\n",
       "} catch (e) {};\n"
      ]
     },
     "metadata": {},
     "output_type": "display_data"
    },
    {
     "data": {
      "application/javascript": [
       "\n",
       "try {\n",
       "require(['notebook/js/codecell'], function(codecell) {\n",
       "  codecell.CodeCell.options_default.highlight_modes[\n",
       "      'magic_text/x-csrc'] = {'reg':[/^%%pybind11/]};\n",
       "  Jupyter.notebook.events.one('kernel_ready.Kernel', function(){\n",
       "      Jupyter.notebook.get_cells().map(function(cell){\n",
       "          if (cell.cell_type == 'code'){ cell.auto_highlight(); } }) ;\n",
       "  });\n",
       "});\n",
       "} catch (e) {};\n"
      ]
     },
     "metadata": {},
     "output_type": "display_data"
    }
   ],
   "source": [
    "from pynq import Overlay\n",
    "from pynq import MMIO\n",
    "import numpy as np\n",
    "\n",
    "# Program bitstream to FPGA\n",
    "overlay = Overlay('MarginSampling512_2_10Classes.bit')\n",
    "\n",
    "# Access to memory map of the AXI GPIO 0\n",
    "GPIO0_ADDR_BASE = 0x41200000\n",
    "GPIO0_ADDR_RANGE = 0x10000\n",
    "gpio0_obj = MMIO(GPIO0_ADDR_BASE, GPIO0_ADDR_RANGE)\n",
    "\n",
    "# Access to memory map of the BRAM 0\n",
    "BRAM0_ADDR_BASE = 0x40000000\n",
    "BRAM0_ADDR_RANGE = 0x40000\n",
    "bram0_obj = MMIO(BRAM0_ADDR_BASE, BRAM0_ADDR_RANGE)\n",
    "\n",
    "# Access to memory map of the BRAM 1\n",
    "BRAM1_ADDR_BASE = 0x42000000\n",
    "BRAM1_ADDR_RANGE = 0x1000\n",
    "bram1_obj = MMIO(BRAM1_ADDR_BASE, BRAM1_ADDR_RANGE)"
   ]
  },
  {
   "cell_type": "markdown",
   "id": "5e20bbc8",
   "metadata": {},
   "source": [
    "### Functions"
   ]
  },
  {
   "cell_type": "code",
   "execution_count": 2,
   "id": "b28047c5",
   "metadata": {},
   "outputs": [],
   "source": [
    "def margin_sw(probs, query_batch):\n",
    "\n",
    "    margins = np.array([_[-1]-_[-2] for _ in np.sort(probs)])\n",
    "    query_idx_batch = np.argsort(margins)[:query_batch]\n",
    "\n",
    "    query_idx = np.argsort(margins)\n",
    "    margins_batch = margins[query_idx_batch]\n",
    "\n",
    "    return margins, margins_batch, query_idx, query_idx_batch\n",
    "\n",
    "def margin_emul(probs, query_batch, n_rbanks, n_registers):\n",
    "\n",
    "    rbanks = [dict() for _ in range(n_rbanks)]\n",
    "    margins = []\n",
    "    indx = 0\n",
    "    r = 0\n",
    "    rb = 0\n",
    "\n",
    "    for indx, prob in enumerate(probs):\n",
    "        margin = np.sort(prob)[-1] - np.sort(prob)[-2]\n",
    "        margins.append(margin)\n",
    "        if indx < query_batch-1:\n",
    "            rbanks[rb][r] = (indx, margin)\n",
    "        elif indx == query_batch-1:\n",
    "            rbanks[rb][r] = (indx, margin)\n",
    "            maxs = [max(rbank.items(), key=lambda x: x[1][1]) for rbank in rbanks]\n",
    "        elif indx > query_batch-1:\n",
    "            if margin < maxs[rb][1][1]:\n",
    "                rbanks[rb][maxs[rb][0]] = (indx, margin)\n",
    "                maxs[rb] = max(rbanks[rb].items(), key=lambda x: x[1][1])\n",
    "        \n",
    "        rb += 1\n",
    "        if rb == n_rbanks:\n",
    "            rb = 0\n",
    "            r += 1\n",
    "        if r == n_registers:\n",
    "            r = 0\n",
    "\n",
    "    query_idx = []\n",
    "    for rb in rbanks:\n",
    "        query_idx += [idx for idx,margin in rb.values()]\n",
    "\n",
    "    margins_batch = np.array(margins)[query_idx]\n",
    "\n",
    "    return margins_batch, np.array(query_idx)\n",
    "\n",
    "def write_bram_pynq_format(din, word_width):\n",
    "    dout = []\n",
    "    for word in din:\n",
    "        word = ([format(_, '04x') for _ in word])\n",
    "        while len(word) < word_width//16:\n",
    "            word = np.append(word, format(0, '04x'))\n",
    "        word = [word[2*_]+word[2*_+1] for _ in range(word_width//16//2)]\n",
    "        dout.append(word)\n",
    "\n",
    "    dout_flattened = [prob for word in dout for prob in word]\n",
    "\n",
    "    return np.array(dout_flattened)\n",
    "\n",
    "def random_data(n_classes, data_length=10240, data_width=16):\n",
    "\n",
    "    data = [[np.random.randint(2**data_width) for i in range(n_classes)] for j in range(data_length)]\n",
    "    \n",
    "    return np.array(data, dtype=np.uint16)"
   ]
  },
  {
   "cell_type": "markdown",
   "id": "0e10b3f0",
   "metadata": {},
   "source": [
    "### Tests on random generated data"
   ]
  },
  {
   "cell_type": "code",
   "execution_count": 5,
   "id": "9fe7102f",
   "metadata": {},
   "outputs": [
    {
     "name": "stdout",
     "output_type": "stream",
     "text": [
      "0: [5119]\n",
      "1: []\n",
      "2: []\n"
     ]
    },
    {
     "ename": "KeyboardInterrupt",
     "evalue": "",
     "output_type": "error",
     "traceback": [
      "\u001b[0;31m---------------------------------------------------------------------------\u001b[0m",
      "\u001b[0;31mKeyboardInterrupt\u001b[0m                         Traceback (most recent call last)",
      "Input \u001b[0;32mIn [5]\u001b[0m, in \u001b[0;36m<cell line: 2>\u001b[0;34m()\u001b[0m\n\u001b[1;32m      1\u001b[0m N \u001b[38;5;241m=\u001b[39m \u001b[38;5;241m50\u001b[39m\n\u001b[1;32m      2\u001b[0m \u001b[38;5;28;01mfor\u001b[39;00m n \u001b[38;5;129;01min\u001b[39;00m \u001b[38;5;28mrange\u001b[39m(N):\n\u001b[1;32m      3\u001b[0m     \n\u001b[1;32m      4\u001b[0m     \u001b[38;5;66;03m#random data\u001b[39;00m\n\u001b[0;32m----> 5\u001b[0m     raw_data \u001b[38;5;241m=\u001b[39m \u001b[43mrandom_data\u001b[49m\u001b[43m(\u001b[49m\u001b[43mn_classes\u001b[49m\u001b[38;5;241;43m=\u001b[39;49m\u001b[38;5;241;43m10\u001b[39;49m\u001b[43m,\u001b[49m\u001b[43m \u001b[49m\u001b[43mdata_length\u001b[49m\u001b[38;5;241;43m=\u001b[39;49m\u001b[38;5;241;43m5120\u001b[39;49m\u001b[43m,\u001b[49m\u001b[43m \u001b[49m\u001b[43mdata_width\u001b[49m\u001b[38;5;241;43m=\u001b[39;49m\u001b[38;5;241;43m16\u001b[39;49m\u001b[43m)\u001b[49m\n\u001b[1;32m      7\u001b[0m     \u001b[38;5;66;03m#pynq bram format\u001b[39;00m\n\u001b[1;32m      8\u001b[0m     input_data \u001b[38;5;241m=\u001b[39m write_bram_pynq_format(raw_data, \u001b[38;5;241m256\u001b[39m)\n",
      "Input \u001b[0;32mIn [2]\u001b[0m, in \u001b[0;36mrandom_data\u001b[0;34m(n_classes, data_length, data_width)\u001b[0m\n\u001b[1;32m     60\u001b[0m \u001b[38;5;28;01mdef\u001b[39;00m \u001b[38;5;21mrandom_data\u001b[39m(n_classes, data_length\u001b[38;5;241m=\u001b[39m\u001b[38;5;241m10240\u001b[39m, data_width\u001b[38;5;241m=\u001b[39m\u001b[38;5;241m16\u001b[39m):\n\u001b[0;32m---> 62\u001b[0m     data \u001b[38;5;241m=\u001b[39m [[np\u001b[38;5;241m.\u001b[39mrandom\u001b[38;5;241m.\u001b[39mrandint(\u001b[38;5;241m2\u001b[39m\u001b[38;5;241m*\u001b[39m\u001b[38;5;241m*\u001b[39mdata_width) \u001b[38;5;28;01mfor\u001b[39;00m i \u001b[38;5;129;01min\u001b[39;00m \u001b[38;5;28mrange\u001b[39m(n_classes)] \u001b[38;5;28;01mfor\u001b[39;00m j \u001b[38;5;129;01min\u001b[39;00m \u001b[38;5;28mrange\u001b[39m(data_length)]\n\u001b[1;32m     64\u001b[0m     \u001b[38;5;28;01mreturn\u001b[39;00m np\u001b[38;5;241m.\u001b[39marray(data, dtype\u001b[38;5;241m=\u001b[39mnp\u001b[38;5;241m.\u001b[39muint16)\n",
      "Input \u001b[0;32mIn [2]\u001b[0m, in \u001b[0;36m<listcomp>\u001b[0;34m(.0)\u001b[0m\n\u001b[1;32m     60\u001b[0m \u001b[38;5;28;01mdef\u001b[39;00m \u001b[38;5;21mrandom_data\u001b[39m(n_classes, data_length\u001b[38;5;241m=\u001b[39m\u001b[38;5;241m10240\u001b[39m, data_width\u001b[38;5;241m=\u001b[39m\u001b[38;5;241m16\u001b[39m):\n\u001b[0;32m---> 62\u001b[0m     data \u001b[38;5;241m=\u001b[39m [[np\u001b[38;5;241m.\u001b[39mrandom\u001b[38;5;241m.\u001b[39mrandint(\u001b[38;5;241m2\u001b[39m\u001b[38;5;241m*\u001b[39m\u001b[38;5;241m*\u001b[39mdata_width) \u001b[38;5;28;01mfor\u001b[39;00m i \u001b[38;5;129;01min\u001b[39;00m \u001b[38;5;28mrange\u001b[39m(n_classes)] \u001b[38;5;28;01mfor\u001b[39;00m j \u001b[38;5;129;01min\u001b[39;00m \u001b[38;5;28mrange\u001b[39m(data_length)]\n\u001b[1;32m     64\u001b[0m     \u001b[38;5;28;01mreturn\u001b[39;00m np\u001b[38;5;241m.\u001b[39marray(data, dtype\u001b[38;5;241m=\u001b[39mnp\u001b[38;5;241m.\u001b[39muint16)\n",
      "Input \u001b[0;32mIn [2]\u001b[0m, in \u001b[0;36m<listcomp>\u001b[0;34m(.0)\u001b[0m\n\u001b[1;32m     60\u001b[0m \u001b[38;5;28;01mdef\u001b[39;00m \u001b[38;5;21mrandom_data\u001b[39m(n_classes, data_length\u001b[38;5;241m=\u001b[39m\u001b[38;5;241m10240\u001b[39m, data_width\u001b[38;5;241m=\u001b[39m\u001b[38;5;241m16\u001b[39m):\n\u001b[0;32m---> 62\u001b[0m     data \u001b[38;5;241m=\u001b[39m [[\u001b[43mnp\u001b[49m\u001b[38;5;241;43m.\u001b[39;49m\u001b[43mrandom\u001b[49m\u001b[38;5;241;43m.\u001b[39;49m\u001b[43mrandint\u001b[49m\u001b[43m(\u001b[49m\u001b[38;5;241;43m2\u001b[39;49m\u001b[38;5;241;43m*\u001b[39;49m\u001b[38;5;241;43m*\u001b[39;49m\u001b[43mdata_width\u001b[49m\u001b[43m)\u001b[49m \u001b[38;5;28;01mfor\u001b[39;00m i \u001b[38;5;129;01min\u001b[39;00m \u001b[38;5;28mrange\u001b[39m(n_classes)] \u001b[38;5;28;01mfor\u001b[39;00m j \u001b[38;5;129;01min\u001b[39;00m \u001b[38;5;28mrange\u001b[39m(data_length)]\n\u001b[1;32m     64\u001b[0m     \u001b[38;5;28;01mreturn\u001b[39;00m np\u001b[38;5;241m.\u001b[39marray(data, dtype\u001b[38;5;241m=\u001b[39mnp\u001b[38;5;241m.\u001b[39muint16)\n",
      "\u001b[0;31mKeyboardInterrupt\u001b[0m: "
     ]
    }
   ],
   "source": [
    "N = 50\n",
    "for n in range(N):\n",
    "    \n",
    "    #random data\n",
    "    raw_data = random_data(n_classes=10, data_length=5120, data_width=16)\n",
    "    \n",
    "    #pynq bram format\n",
    "    input_data = write_bram_pynq_format(raw_data, 256)\n",
    "    \n",
    "    #write array to bram0\n",
    "    j = 0;\n",
    "    for i in range(0,input_data.shape[0]*4,4):\n",
    "        bram0_obj.write(i, int(input_data[j], 16))\n",
    "        j += 1\n",
    "        \n",
    "    #start processing\n",
    "    gpio0_obj.write(0, 1)\n",
    "    gpio0_obj.write(0, 0)\n",
    "    while (gpio0_obj.read(8) == 0):\n",
    "        pass\n",
    "    \n",
    "    #output array\n",
    "    output_data = np.zeros((512,), dtype=np.uint32)\n",
    "    \n",
    "    #read bram1 to output array\n",
    "    j = 0\n",
    "    for i in range(0,output_data.shape[0]*4,4):\n",
    "        output_data[j] = bram1_obj.read(i)\n",
    "        j += 1\n",
    "    \n",
    "    #emulation results\n",
    "    margin_hw_indx = margin_emul(raw_data, 512, 8, 64)[1]\n",
    "    \n",
    "    #check mismatches\n",
    "    mismatches = []\n",
    "    for _ in margin_hw_indx:\n",
    "        if _ not in output_data:\n",
    "            mismatches.append(_)\n",
    "\n",
    "    print(f\"{n}: {mismatches}\") \n",
    "    \n",
    "    del input_data, output_data, raw_data"
   ]
  },
  {
   "cell_type": "markdown",
   "id": "bc3e83e4",
   "metadata": {},
   "source": [
    "### Tests on predicted data"
   ]
  },
  {
   "cell_type": "code",
   "execution_count": 3,
   "id": "f2f67fb7",
   "metadata": {},
   "outputs": [
    {
     "name": "stdout",
     "output_type": "stream",
     "text": [
      "FashionMNIST_MobileNetV1 shape: (5120, 10)\n",
      "FashionMNIST_EfficientNetB0 shape: (5120, 10)\n",
      "FashionMNIST_ResNet50 shape: (5120, 10)\n",
      "CIFAR10_MobileNetV1 shape: (5120, 10)\n",
      "CIFAR10_EfficientNetB0 shape: (5120, 10)\n",
      "CIFAR10_ResNet50 shape: (5120, 10)\n"
     ]
    }
   ],
   "source": [
    "#load data\n",
    "predicted_probs = dict()\n",
    "FashionMNIST_MobileNetV1 = np.load(\"../predicted_probs/predicted_probs_FashionMNISTSubset512_MobileNetV1.npy\")\n",
    "predicted_probs[\"FashionMNIST_MobileNetV1\"] = FashionMNIST_MobileNetV1\n",
    "FashionMNIST_EfficientNetB0 = np.load(\"../predicted_probs/predicted_probs_FashionMNISTSubset512_EfficientNetB0.npy\")\n",
    "predicted_probs[\"FashionMNIST_EfficientNetB0\"] = FashionMNIST_EfficientNetB0\n",
    "FashionMNIST_ResNet50 = np.load(\"../predicted_probs/predicted_probs_FashionMNISTSubset512_ResNet50.npy\")\n",
    "predicted_probs[\"FashionMNIST_ResNet50\"] = FashionMNIST_ResNet50 \n",
    "CIFAR10_MobileNetV1 = np.load(\"../predicted_probs/predicted_probs_CIFAR10Subset512_MobileNetV1.npy\")\n",
    "predicted_probs[\"CIFAR10_MobileNetV1\"] = CIFAR10_MobileNetV1\n",
    "CIFAR10_EfficientNetB0 = np.load(\"../predicted_probs/predicted_probs_CIFAR10Subset512_EfficientNetB0.npy\")\n",
    "predicted_probs[\"CIFAR10_EfficientNetB0\"] = CIFAR10_EfficientNetB0\n",
    "CIFAR10_ResNet50 = np.load(\"../predicted_probs/predicted_probs_CIFAR10Subset512_ResNet50.npy\")\n",
    "predicted_probs[\"CIFAR10_ResNet50\"] = CIFAR10_ResNet50\n",
    "\n",
    "print(\"FashionMNIST_MobileNetV1 shape:\", FashionMNIST_MobileNetV1.shape)\n",
    "print(\"FashionMNIST_EfficientNetB0 shape:\", FashionMNIST_EfficientNetB0.shape)\n",
    "print(\"FashionMNIST_ResNet50 shape:\", FashionMNIST_ResNet50.shape)\n",
    "print(\"CIFAR10_MobileNetV1 shape:\", CIFAR10_MobileNetV1.shape)\n",
    "print(\"CIFAR10_EfficientNetB0 shape:\", CIFAR10_EfficientNetB0.shape)\n",
    "print(\"CIFAR10_ResNet50 shape:\", CIFAR10_ResNet50.shape)"
   ]
  },
  {
   "cell_type": "code",
   "execution_count": 4,
   "id": "182f9997",
   "metadata": {},
   "outputs": [
    {
     "name": "stdout",
     "output_type": "stream",
     "text": [
      "FashionMNIST_MobileNetV1 Mismatches: []\n",
      "FashionMNIST_EfficientNetB0 Mismatches: []\n",
      "FashionMNIST_ResNet50 Mismatches: []\n",
      "CIFAR10_MobileNetV1 Mismatches: []\n",
      "CIFAR10_EfficientNetB0 Mismatches: []\n",
      "CIFAR10_ResNet50 Mismatches: []\n"
     ]
    }
   ],
   "source": [
    "for k, raw_data in predicted_probs.items():\n",
    "    \n",
    "    #pynq bram format\n",
    "    raw_data = np.array([prob*(2**16) for prob in raw_data], np.uint16)\n",
    "    input_data = write_bram_pynq_format(raw_data, 256)\n",
    "    \n",
    "    #write array to bram0\n",
    "    j = 0;\n",
    "    for i in range(0,input_data.shape[0]*4,4):\n",
    "        bram0_obj.write(i, int(input_data[j], 16))\n",
    "        j += 1\n",
    "        \n",
    "    #start processing\n",
    "    gpio0_obj.write(0, 1)\n",
    "    gpio0_obj.write(0, 0)\n",
    "    while (gpio0_obj.read(8) == 0):\n",
    "        pass\n",
    "    \n",
    "    #output array\n",
    "    output_data = np.zeros((512,), dtype=np.uint32)\n",
    "    \n",
    "    #read bram1 to output array\n",
    "    j = 0\n",
    "    for i in range(0,output_data.shape[0]*4,4):\n",
    "        output_data[j] = bram1_obj.read(i)\n",
    "        j += 1\n",
    "    \n",
    "    #emulation results\n",
    "    margin_hw_indx = margin_emul(raw_data, 512, 8, 64)[1]\n",
    "    \n",
    "    #check mismatches\n",
    "    mismatches = []\n",
    "    for _ in margin_hw_indx:\n",
    "        if _ not in output_data:\n",
    "            mismatches.append(_)\n",
    "\n",
    "    print(f\"{k} Mismatches: {mismatches}\") \n",
    "    \n",
    "    del input_data, output_data, raw_data"
   ]
  }
 ],
 "metadata": {
  "kernelspec": {
   "display_name": "Python 3 (ipykernel)",
   "language": "python",
   "name": "python3"
  },
  "language_info": {
   "codemirror_mode": {
    "name": "ipython",
    "version": 3
   },
   "file_extension": ".py",
   "mimetype": "text/x-python",
   "name": "python",
   "nbconvert_exporter": "python",
   "pygments_lexer": "ipython3",
   "version": "3.10.4"
  }
 },
 "nbformat": 4,
 "nbformat_minor": 5
}
